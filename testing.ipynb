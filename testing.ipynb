{
 "cells": [
  {
   "cell_type": "code",
   "execution_count": 1,
   "id": "8f68bff3-3dd7-467a-8784-7c960cea6131",
   "metadata": {},
   "outputs": [
    {
     "name": "stderr",
     "output_type": "stream",
     "text": [
      "2024-11-14 19:38:05.405360: I tensorflow/core/platform/cpu_feature_guard.cc:182] This TensorFlow binary is optimized to use available CPU instructions in performance-critical operations.\n",
      "To enable the following instructions: SSE3 SSE4.1 SSE4.2 AVX AVX2 FMA, in other operations, rebuild TensorFlow with the appropriate compiler flags.\n"
     ]
    }
   ],
   "source": [
    "import os\n",
    "\n",
    "os.environ[\"KERAS_BACKEND\"] = \"tensorflow\"\n",
    "\n",
    "import pathlib\n",
    "import pandas as pd\n",
    "import matplotlib.pyplot as plt\n",
    "import numpy as np\n",
    "import tensorflow as tf\n",
    "import keras\n",
    "from keras import layers, ops\n",
    "from datetime import date"
   ]
  },
  {
   "cell_type": "markdown",
   "id": "d2b8a97a-6c02-4fda-9311-25f04a436024",
   "metadata": {},
   "source": [
    "### Trying to get the actual data"
   ]
  },
  {
   "cell_type": "code",
   "execution_count": 2,
   "id": "85f9ef27-413e-489f-9001-92af89f7abb1",
   "metadata": {},
   "outputs": [],
   "source": [
    "data_root = keras.utils.get_file(\n",
    "    origin=\"https://www.kaggle.com/api/v1/datasets/download/jacksoncrow/stock-market-dataset\",\n",
    "    cache_dir='.', cache_subdir='data',\n",
    "    extract=True)"
   ]
  },
  {
   "cell_type": "code",
   "execution_count": 3,
   "id": "8b23bacc-9e0e-4e55-a6b6-06862fff71a2",
   "metadata": {},
   "outputs": [],
   "source": [
    "tickers = np.load(\"tickers.npy\")"
   ]
  },
  {
   "cell_type": "code",
   "execution_count": 4,
   "id": "64b068d3-7323-40e5-9e59-c87865f1325b",
   "metadata": {},
   "outputs": [
    {
     "data": {
      "text/plain": [
       "244"
      ]
     },
     "execution_count": 4,
     "metadata": {},
     "output_type": "execute_result"
    }
   ],
   "source": [
    "data_root_path = pathlib.Path(data_root)\n",
    "stock_dir = data_root_path.joinpath(\"stocks\")\n",
    "data_strs = [str(x) for x in stock_dir.iterdir() if x.stem in tickers]\n",
    "len(data_strs)  # hmm..."
   ]
  },
  {
   "cell_type": "code",
   "execution_count": 5,
   "id": "2d2a329a-d62c-4630-960c-8354d93be02a",
   "metadata": {},
   "outputs": [
    {
     "name": "stderr",
     "output_type": "stream",
     "text": [
      "2024-11-14 19:38:24.636900: I tensorflow/compiler/xla/stream_executor/cuda/cuda_gpu_executor.cc:995] successful NUMA node read from SysFS had negative value (-1), but there must be at least one NUMA node, so returning NUMA node zero. See more at https://github.com/torvalds/linux/blob/v6.0/Documentation/ABI/testing/sysfs-bus-pci#L344-L355\n",
      "2024-11-14 19:38:24.942900: I tensorflow/compiler/xla/stream_executor/cuda/cuda_gpu_executor.cc:995] successful NUMA node read from SysFS had negative value (-1), but there must be at least one NUMA node, so returning NUMA node zero. See more at https://github.com/torvalds/linux/blob/v6.0/Documentation/ABI/testing/sysfs-bus-pci#L344-L355\n",
      "2024-11-14 19:38:24.943168: I tensorflow/compiler/xla/stream_executor/cuda/cuda_gpu_executor.cc:995] successful NUMA node read from SysFS had negative value (-1), but there must be at least one NUMA node, so returning NUMA node zero. See more at https://github.com/torvalds/linux/blob/v6.0/Documentation/ABI/testing/sysfs-bus-pci#L344-L355\n",
      "2024-11-14 19:38:24.945346: I tensorflow/compiler/xla/stream_executor/cuda/cuda_gpu_executor.cc:995] successful NUMA node read from SysFS had negative value (-1), but there must be at least one NUMA node, so returning NUMA node zero. See more at https://github.com/torvalds/linux/blob/v6.0/Documentation/ABI/testing/sysfs-bus-pci#L344-L355\n",
      "2024-11-14 19:38:24.945565: I tensorflow/compiler/xla/stream_executor/cuda/cuda_gpu_executor.cc:995] successful NUMA node read from SysFS had negative value (-1), but there must be at least one NUMA node, so returning NUMA node zero. See more at https://github.com/torvalds/linux/blob/v6.0/Documentation/ABI/testing/sysfs-bus-pci#L344-L355\n",
      "2024-11-14 19:38:24.945773: I tensorflow/compiler/xla/stream_executor/cuda/cuda_gpu_executor.cc:995] successful NUMA node read from SysFS had negative value (-1), but there must be at least one NUMA node, so returning NUMA node zero. See more at https://github.com/torvalds/linux/blob/v6.0/Documentation/ABI/testing/sysfs-bus-pci#L344-L355\n",
      "2024-11-14 19:38:25.010927: I tensorflow/compiler/xla/stream_executor/cuda/cuda_gpu_executor.cc:995] successful NUMA node read from SysFS had negative value (-1), but there must be at least one NUMA node, so returning NUMA node zero. See more at https://github.com/torvalds/linux/blob/v6.0/Documentation/ABI/testing/sysfs-bus-pci#L344-L355\n",
      "2024-11-14 19:38:25.011164: I tensorflow/compiler/xla/stream_executor/cuda/cuda_gpu_executor.cc:995] successful NUMA node read from SysFS had negative value (-1), but there must be at least one NUMA node, so returning NUMA node zero. See more at https://github.com/torvalds/linux/blob/v6.0/Documentation/ABI/testing/sysfs-bus-pci#L344-L355\n",
      "2024-11-14 19:38:25.011358: I tensorflow/compiler/xla/stream_executor/cuda/cuda_gpu_executor.cc:995] successful NUMA node read from SysFS had negative value (-1), but there must be at least one NUMA node, so returning NUMA node zero. See more at https://github.com/torvalds/linux/blob/v6.0/Documentation/ABI/testing/sysfs-bus-pci#L344-L355\n",
      "2024-11-14 19:38:25.011747: I tensorflow/core/common_runtime/gpu/gpu_device.cc:1639] Created device /job:localhost/replica:0/task:0/device:GPU:0 with 4401 MB memory:  -> device: 0, name: NVIDIA GeForce RTX 3060 Laptop GPU, pci bus id: 0000:01:00.0, compute capability: 8.6\n"
     ]
    }
   ],
   "source": [
    "dataloader = tf.data.experimental.make_csv_dataset(file_pattern=data_strs, batch_size=16, num_epochs=1, num_parallel_reads=16)\n",
    "# dataloader"
   ]
  },
  {
   "cell_type": "code",
   "execution_count": 9,
   "id": "1a0bfd6c-029a-4975-9d47-5be90a417254",
   "metadata": {},
   "outputs": [
    {
     "data": {
      "text/plain": [
       "<_BatchDataset element_spec=OrderedDict([('Date', TensorSpec(shape=(None, None), dtype=tf.string, name=None)), ('Open', TensorSpec(shape=(None, None), dtype=tf.float32, name=None)), ('High', TensorSpec(shape=(None, None), dtype=tf.float32, name=None)), ('Low', TensorSpec(shape=(None, None), dtype=tf.float32, name=None)), ('Close', TensorSpec(shape=(None, None), dtype=tf.float32, name=None)), ('Adj Close', TensorSpec(shape=(None, None), dtype=tf.float32, name=None)), ('Volume', TensorSpec(shape=(None, None), dtype=tf.int32, name=None))])>"
      ]
     },
     "execution_count": 9,
     "metadata": {},
     "output_type": "execute_result"
    }
   ],
   "source": [
    "dataloader.batch(16)"
   ]
  }
 ],
 "metadata": {
  "kernelspec": {
   "display_name": "Python 3 (ipykernel)",
   "language": "python",
   "name": "python3"
  },
  "language_info": {
   "codemirror_mode": {
    "name": "ipython",
    "version": 3
   },
   "file_extension": ".py",
   "mimetype": "text/x-python",
   "name": "python",
   "nbconvert_exporter": "python",
   "pygments_lexer": "ipython3",
   "version": "3.11.10"
  }
 },
 "nbformat": 4,
 "nbformat_minor": 5
}
