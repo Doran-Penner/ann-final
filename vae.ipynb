{
 "cells": [
  {
   "cell_type": "markdown",
   "metadata": {
    "id": "EMTXGroV8OYC"
   },
   "source": [
    "# Training the VAE"
   ]
  },
  {
   "cell_type": "markdown",
   "metadata": {
    "id": "WlE7QRb28OYE"
   },
   "source": [
    "## Setup"
   ]
  },
  {
   "cell_type": "code",
   "execution_count": null,
   "metadata": {
    "id": "26k3CWYk8OYF",
    "scrolled": true
   },
   "outputs": [],
   "source": [
    "import os\n",
    "\n",
    "os.environ[\"KERAS_BACKEND\"] = \"tensorflow\"\n",
    "# import matplotlib.pyplot as plt\n",
    "import numpy as np\n",
    "import tensorflow as tf\n",
    "import keras\n",
    "from keras import layers, ops\n",
    "from data import vae_data  # hurray for modularity!"
   ]
  },
  {
   "cell_type": "markdown",
   "metadata": {
    "id": "q9nHtwNv8OYG"
   },
   "source": [
    "## Create a custom sampling layer and VAE model"
   ]
  },
  {
   "cell_type": "code",
   "execution_count": null,
   "metadata": {
    "id": "mYw7cIVx8OYH"
   },
   "outputs": [],
   "source": [
    "class Sampling(layers.Layer):\n",
    "    \"\"\"Uses (z_mean, z_log_var) to sample z, the vector encoding a digit.\"\"\"\n",
    "\n",
    "    def __init__(self, kl_loss_factor=1, seed=None, **kwargs):\n",
    "        super().__init__(**kwargs)\n",
    "        self.seed_generator = keras.random.SeedGenerator(seed=seed)\n",
    "        self.kl_loss_factor = kl_loss_factor\n",
    "\n",
    "    def call(self, inputs):\n",
    "        z_mean, z_log_var = inputs\n",
    "        # add loss\n",
    "        kl_loss = -0.5 * (1 + z_log_var - ops.square(z_mean) - ops.exp(z_log_var))\n",
    "        self.add_loss(kl_loss * self.kl_loss_factor)\n",
    "        # sample\n",
    "        batch = ops.shape(z_mean)[0]\n",
    "        dim = ops.shape(z_mean)[1]\n",
    "        epsilon = keras.random.normal(shape=(batch, dim), seed=self.seed_generator)\n",
    "        return z_mean + ops.exp(0.5 * z_log_var) * epsilon\n",
    "\n",
    "\n",
    "class VAE(keras.Model):\n",
    "    \"\"\"Wraps an encoder and decoder into a single variational autoencoder model.\"\"\"\n",
    "\n",
    "    def __init__(self, encoder, decoder, **kwargs):\n",
    "        # TODO hacky?\n",
    "        vae_inputs = keras.Input(shape=encoder.input.shape[1:], name=\"vae_inputs\")\n",
    "        vae_outputs = decoder(encoder(vae_inputs))\n",
    "        super().__init__(inputs=vae_inputs, outputs=vae_outputs, **kwargs)\n",
    "        self.encoder = encoder\n",
    "        self.decoder = decoder"
   ]
  },
  {
   "cell_type": "markdown",
   "metadata": {
    "id": "KYpc92xo8OYI"
   },
   "source": [
    "## Build the models"
   ]
  },
  {
   "cell_type": "code",
   "execution_count": null,
   "metadata": {},
   "outputs": [],
   "source": [
    "input_shape = (6,)\n",
    "latent_dim = 2"
   ]
  },
  {
   "cell_type": "code",
   "execution_count": null,
   "metadata": {
    "colab": {
     "base_uri": "https://localhost:8080/",
     "height": 425
    },
    "id": "5B6EVtw18OYI",
    "outputId": "3c1f3b52-0ce7-4521-82bd-77a0a5f082c0"
   },
   "outputs": [],
   "source": [
    "encoder_inputs = keras.Input(shape=input_shape, name=\"encoder_inputs\")\n",
    "\n",
    "x = layers.Dense(5, activation=\"relu\")(encoder_inputs)\n",
    "z_mean = layers.Dense(latent_dim, name=\"z_mean\")(x)\n",
    "z_log_var = layers.Dense(latent_dim, name=\"z_log_var\")(x)\n",
    "\n",
    "# technically maybe this should be part of the decoder,\n",
    "# but right now we have bigger problems (nan loss)\n",
    "encoder_outputs = Sampling(kl_loss_factor=1, seed=489, name=\"encoder_outputs\")([\n",
    "    z_mean,\n",
    "    z_log_var,\n",
    "])\n",
    "\n",
    "encoder = keras.Model(inputs=encoder_inputs, outputs=encoder_outputs, name=\"encoder\")\n",
    "encoder.summary()"
   ]
  },
  {
   "cell_type": "code",
   "execution_count": null,
   "metadata": {
    "colab": {
     "base_uri": "https://localhost:8080/",
     "height": 340
    },
    "id": "khIY0Ez08OYJ",
    "outputId": "8cab5cb6-3365-49a2-8b5e-9a113f92a12e"
   },
   "outputs": [],
   "source": [
    "decoder_inputs = keras.Input(shape=(latent_dim,), name=\"decoder_inputs\")\n",
    "\n",
    "x = layers.Dense(5, activation=\"relu\")(decoder_inputs)\n",
    "decoder_outputs = layers.Dense(6, name=\"decoder_outputs\")(x)\n",
    "\n",
    "decoder = keras.Model(inputs=decoder_inputs, outputs=decoder_outputs, name=\"decoder\")\n",
    "decoder.summary()"
   ]
  },
  {
   "cell_type": "code",
   "execution_count": null,
   "metadata": {},
   "outputs": [],
   "source": [
    "vae = VAE(encoder=encoder, decoder=decoder, name=\"vae\")\n",
    "vae.summary()"
   ]
  },
  {
   "cell_type": "markdown",
   "metadata": {
    "id": "ZKysMi328OYM"
   },
   "source": [
    "## Train the VAE"
   ]
  },
  {
   "cell_type": "code",
   "execution_count": null,
   "metadata": {},
   "outputs": [],
   "source": [
    "train, valid, test = vae_data"
   ]
  },
  {
   "cell_type": "code",
   "execution_count": null,
   "metadata": {},
   "outputs": [],
   "source": [
    "vae.compile(\n",
    "    optimizer=keras.optimizers.Adam(learning_rate=1e-5, clipnorm=1.0),\n",
    "    loss=\"mean_squared_error\",\n",
    "    # metrics=[\"mean_squared_error\"],\n",
    ")\n",
    "# note: still shows nan :(\n",
    "history = vae.fit(train, epochs=30, validation_data=valid)"
   ]
  },
  {
   "cell_type": "code",
   "execution_count": null,
   "metadata": {},
   "outputs": [],
   "source": [
    "test_stats = vae.evaluate(test, return_dict=True)"
   ]
  }
 ],
 "metadata": {
  "accelerator": "GPU",
  "colab": {
   "name": "vae",
   "provenance": [],
   "toc_visible": true
  },
  "kernelspec": {
   "display_name": "Python 3 (ipykernel)",
   "language": "python",
   "name": "python3"
  },
  "language_info": {
   "codemirror_mode": {
    "name": "ipython",
    "version": 3
   },
   "file_extension": ".py",
   "mimetype": "text/x-python",
   "name": "python",
   "nbconvert_exporter": "python",
   "pygments_lexer": "ipython3",
   "version": "3.11.10"
  }
 },
 "nbformat": 4,
 "nbformat_minor": 4
}
